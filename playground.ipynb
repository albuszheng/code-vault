{
  "nbformat": 4,
  "nbformat_minor": 0,
  "metadata": {
    "colab": {
      "name": "playground.ipynb",
      "version": "0.3.2",
      "provenance": []
    },
    "kernelspec": {
      "name": "python3",
      "display_name": "Python 3"
    }
  },
  "cells": [
    {
      "cell_type": "markdown",
      "metadata": {
        "id": "view-in-github",
        "colab_type": "text"
      },
      "source": [
        "[View in Colaboratory](https://colab.research.google.com/github/albuszheng/code-vault/blob/master/playground.ipynb)"
      ]
    },
    {
      "metadata": {
        "id": "Gz-5jU7Bvdcu",
        "colab_type": "code",
        "colab": {
          "base_uri": "https://localhost:8080/",
          "height": 34
        },
        "outputId": "5a249433-0f80-4d11-b39a-ea92acb563f0"
      },
      "cell_type": "code",
      "source": [
        "import requests\n",
        "import re\n",
        "\n",
        "\n",
        "requests_url = \"https://en.wikipedia.org/w/api.php?action=query&prop=revisions&titles=\\\n",
        "Wikipedia:In_the_news%2FCandidates%2FMarch_2015&rvprop=timestamp%7Cuser%7Ccomment%7Ccontent&\\\n",
        "formatversion=2&format=json\"\n",
        "\n",
        "r = requests.get(requests_url)\n",
        "r_json =r.json()\n",
        "\n",
        "content = r_json['query']['pages'][0]['revisions'][0]['content']\n",
        "content_by_day = re.split(r'(\\n==March \\d{1,2}==\\n)', content)\n",
        "\n"
      ],
      "execution_count": 4,
      "outputs": [
        {
          "output_type": "execute_result",
          "data": {
            "text/plain": [
              "'\\n==March 30==\\n'"
            ]
          },
          "metadata": {
            "tags": []
          },
          "execution_count": 4
        }
      ]
    },
    {
      "metadata": {
        "id": "WXuIPj8A1mgW",
        "colab_type": "code",
        "colab": {
          "base_uri": "https://localhost:8080/",
          "height": 122
        },
        "outputId": "b15d047a-c3a3-45c7-f9a1-6f7ccaa284fd"
      },
      "cell_type": "code",
      "source": [
        "itn_candidates = re.split(r'(\\n====.+====\\n)', content_by_day[2])\n",
        "itn_candidates"
      ],
      "execution_count": 11,
      "outputs": [
        {
          "output_type": "execute_result",
          "data": {
            "text/plain": [
              "['{{cot|[[Portal:Current events/2015 March 31]]}}\\n{{Portal:Current events/2015 March 31}}\\n{{cob}}\\n----',\n",
              " '\\n====[Closed] The World is Bardo====\\n',\n",
              " '{{archive top|1=No consensus to post. [[User:The Rambling Man|The Rambling Man]] ([[User talk:The Rambling Man|talk]]) 18:32, 1 April 2015 (UTC)}}\\n{{ITN candidate\\n| article       = The World is Bardo\\n| article2      = <!-- Do not wikilink - leave blank if nominating only one article -->\\n| image         = <!-- Name of image only; do not link. Please crop the image, if necessary. -->\\n| blurb         = Successful March against Terrorism has been held in Tunisia.\\n| recent deaths = <!-- (yes/no); instead of specifying a blurb the nomination can be for the \"Recent deaths\" line -->\\n| ongoing       = <!-- (yes/no); instead of specifying a blurb the nomination can be for the \"Ongoing\" line -->\\n| altblurb      = <!-- An alternative blurb. Leave blank if not needed -->\\n| altblurb2     = <!-- A second alternative blurb. Leave blank if not needed -->\\n| altblurb3     = <!-- A third alternative blurb. Leave blank if not needed -->\\n| sources       = [http://www.theguardian.com/world/2015/mar/29/tunisian-french-presidents-unity-rally-tunis-museum-attack Byrne, E. , and Stephen, C. (2015). Thousands march in anti-terrorism rally in Tunis, Tunisian and French presidents attend unity rally after Tunis museum attack, The Guardian, 29 March 2015]\\n| updated       = <!-- (yes/no); Leave blank if you aren\\'t sure -->\\n| updated2      = <!-- (yes/no); only if there\\'s a second article and article2 is filled in! Leave blank if unsure -->\\n| nominator     = csisc <!-- Do NOT change this -->\\n| updater       = <!-- Should be filled with the username of the person who has contributed the most to updates. -->\\n| updater2      = <!-- if more than one updater -->\\n| updater3      = <!-- if more than two updaters -->\\n| ITNR          = No <!-- \\'No\\' by default. Only put in \\'yes\\' if the event is verified as ongoing by reliable sources. -->\\n| note          = \\n| nom cmt       =  \\n| sign          = --[[User:Csisc|Csisc]] ([[User talk:Csisc|talk]]) 11:41, 31 March 2015 (UTC) <!-- Do NOT change this -->\\n}}\\n*\\'\\'\\'Weak Oppose\\'\\'\\' - even though some world leaders attended this event, I am not sure whether it has had much global impact. It\\'s a protest against terrorism. Most people don\\'t support terrorism already - but what does this achieve? [[User:Starship.paint|\\'\\'\\'starship\\'\\'\\']][[Special:Contributions/Starship.paint|\\'\\'\\'.paint\\'\\'\\']] \\'\\'\\'[[User talk:Starship.paint|<font color=\"#000000\">~ ¡<font color=\"#E62617\">Olé</font>!</font>]]\\'\\'\\' 13:24, 31 March 2015 (UTC)\\n\\n* \\'\\'\\'Oppose\\'\\'\\' First, the blurb should be better (the title of the source is misleading, as it says \"hundreds of thousands\" in the march, making it larger than the title suggests), however, while similar to Je Suis Charlie, this seems to be a much smaller, and local, scale, and a response to the already-posted Bardo museum attack. I would suggest that DYK is a prime spot for this if this fails ITN. --[[User:Masem|M<font size=\"-3\">ASEM</font>]] ([[User Talk:Masem|t]]) 13:26, 31 March 2015 (UTC)\\n\\n*\\'\\'\\'Weak oppose\\'\\'\\' as protests against terrorism are not unusual and this specific one doesn\\'t seem like it will have a great impact on laws or policy. The Je suis Charlie protests were much larger in scale and occurred in many countries. [[User:331dot|331dot]] ([[User talk:331dot|talk]]) 13:56, 31 March 2015 (UTC)\\n\\n*\\'\\'\\'Support\\'\\'\\' large protest (see picture) internationally attended.  Just object to the word \"successful\" as odd wording for the blurb. [[User:Medeis|μηδείς]] ([[User talk:Medeis|talk]]) 16:48, 31 March 2015 (UTC)\\n\\n*\\'\\'\\'Oppose\\'\\'\\': Strangely worded blurb and rather stale (it happened Sunday, not today). And it wasn\\'t even \\'\\'that\\'\\' big of a march, with only a few leaders of countries in Tunisia\\'s neighborhood joining what Reuters described as \"tens of thousands of Tunisians\". -[[User:Kudzu1|Kudzu1]] ([[User talk:Kudzu1|talk]]) 17:05, 31 March 2015 (UTC)\\n\\n*\\'\\'\\'Oppose\\'\\'\\' Purely symbolic, and not even particularly significant at that. [[User:JoshuaKGarner|Joshua Garner]] ([[User talk:JoshuaKGarner|talk]]) 17:09, 31 March 2015 (UTC)\\n\\n*\\'\\'\\'Oppose\\'\\'\\' government-orchestrated march, changes nothing.  [[User:The Rambling Man|The Rambling Man]] ([[User talk:The Rambling Man|talk]]) 18:28, 31 March 2015 (UTC)\\n\\n*\\'\\'\\'Weak oppose\\'\\'\\': does not seem to have attracted particular international attention; we have not included marches of a comparable size with only national significance on In the News before. [[User:Midnightblueowl|Midnightblueowl]] ([[User talk:Midnightblueowl|talk]]) 21:16, 31 March 2015 (UTC)\\n\\n*\\'\\'\\'Oppose\\'\\'\\' Bad article is undeveloped compared to [[Bardo National Museum attack]], little coverage of Tunisian politics. [[User:Aronzak|-- Aronzak]] ([[User talk:Aronzak|talk]]) 09:10, 1 April 2015 (UTC)\\n{{archive bottom}}\\n',\n",
              " '\\n==== [Posted] Nigerian general election ====\\n',\n",
              " '{{ITN candidate\\n| article       = Nigerian general election, 2015\\n| article2      = <!-- Do not wikilink - leave blank if nominating only one article -->\\n| image         = Muhammadu Buhari - Chatham House.jpg\\n| blurb         = [[Muhammadu Buhari]] (pictured) is \\'\\'\\'[[Nigerian general election, 2015|elected]]\\'\\'\\' president of [[Nigeria]].\\n| recent deaths = <!-- (yes/no); instead of specifying a blurb the nomination can be for the \"Recent deaths\" line -->\\n| ongoing       = <!-- (yes/no); instead of specifying a blurb the nomination can be for the \"Ongoing\" line -->\\n| altblurb      = <!-- An alternative blurb. Leave blank if not needed -->\\n| altblurb2     = <!-- A second alternative blurb. Leave blank if not needed -->\\n| altblurb3     = <!-- A third alternative blurb. Leave blank if not needed -->\\n| sources       = [http://www.bbc.co.uk/news/world-africa-32125861 BBC News], [http://www.aljazeera.com/news/2015/03/opposition-party-declares-victory-nigeria-election-150331135603507.html Aljazeera]\\n| updated       = yes\\n| updated2      = <!-- (yes/no); only if there\\'s a second article and article2 is filled in! Leave blank if unsure -->\\n| nominator     = Alifazal <!-- Do NOT change this -->\\n| updater       = <!-- Should be filled with the username of the person who has contributed the most to updates. -->\\n| updater2      = <!-- if more than one updater -->\\n| updater3      = <!-- if more than two updaters -->\\n| ITNR          = yes\\n| note          = <!-- Can be used to note potential problems with the nomination or article. -->\\n| nom cmt       = <strike>\\'\\'Support\\'\\'\\' as nominator.</strike>\\n| sign          = [[User:Alifazal|Ali Fazal]] ([[User talk:Alifazal|talk]]) 16:49, 31 March 2015 (UTC) <!-- Do NOT change this -->\\n}}\\n*ITNR items do not require support on the merits as their presence on the ITNR list means they are already considered notable; discussion is to determine if article quality is adequate, updated, and to determine a blurb. It\\'s also generally assumed that you support your own nomination. [[User:331dot|331dot]] ([[User talk:331dot|talk]]) 16:57, 31 March 2015 (UTC)\\n::Thank you 331dot. [[User:Alifazal|Ali Fazal]] ([[User talk:Alifazal|talk]]) 17:11, 31 March 2015 (UTC)\\n*\\'\\'\\'Support\\'\\'\\' posting ASAP. One of the world\\'s largest democracies (and an apparently democratic result, to boot!) and a major development in regional politics. -[[User:Kudzu1|Kudzu1]] ([[User talk:Kudzu1|talk]]) 17:02, 31 March 2015 (UTC)\\n*\\'\\'\\'Support with article updates\\'\\'\\' The election, even considering ITNR, has been the subject of news for days being one of the largest in Africa.  But the article seems to be missing the results of the election, which I know probably aren\\'t fully complete at this time, but should have a summary of the presidency victory and that the opponent has conceded defeat. --[[User:Masem|M<font size=\"-3\">ASEM</font>]] ([[User Talk:Masem|t]]) 17:14, 31 March 2015 (UTC)\\n*\\'\\'\\'Support\\'\\'\\' Jonathan has conceded, NYT and BBC have declared victory for Buhari, the last state to be counted is Borno, which can safely be predicted to go for Buhari. --[[User:Varavour|Varavour]] ([[User talk:Varavour|talk]]) 18:21, 31 March 2015 (UTC)\\n::Election commission has declared Buhari the winner... this really should be posted. --[[User:Varavour|Varavour]] ([[User talk:Varavour|talk]]) 02:45, 1 April 2015 (UTC)\\n*\\'\\'\\'Oppose\\'\\'\\' not sufficiently updated.  [[User:The Rambling Man|The Rambling Man]] ([[User talk:The Rambling Man|talk]]) 18:29, 31 March 2015 (UTC)\\n*:{{ping|The Rambling Man}} Could you itemize a few insufficiencies?  It looks ready for posting to me.  The article has referenced statements of the results, the winner, and the concession by Goodluck Jonathan.  The rest of the article is solid and extensive as well.  Can you tell me what information you know of, which you find lacking in the article?  It would help people who care to know what to add.  --[[User:Jayron32|<span style=\"color:#009\">Jayron</span>]][[User talk:Jayron32|<b style=\"color:#090\">\\'\\'32\\'\\'</b>]] 19:28, 31 March 2015 (UTC)\\n*::It was mainly the tenses of the sections preceding the polls and results sections, and the fact that we still have \"preliminary results\" suggesting a rather tenuous claim of a definitive result.  Plus there appears a 36th state to confirm results. Also, the National Assembly and Senate tables are incomplete.  But other than that, it\\'s good to go.  [[User:The Rambling Man|The Rambling Man]] ([[User talk:The Rambling Man|talk]]) 21:02, 31 March 2015 (UTC)\\n*:::Thanks.  I\\'m not familiar with the sources necessary to do the update, but that is an actionable list of items someone can work on before it is posted.  --[[User:Jayron32|<span style=\"color:#009\">Jayron</span>]][[User talk:Jayron32|<b style=\"color:#090\">\\'\\'32\\'\\'</b>]] 21:38, 31 March 2015 (UTC)\\n*\\'\\'\\'Support\\'\\'\\' Jonathan has conceded. --[[User:Panam2014|Panam2014]] ([[User talk:Panam2014|talk]]) 21:12, 31 March 2015 (UTC)\\n*\\'\\'\\'Support:\\'\\'\\' very important international news story. [[User:Midnightblueowl|Midnightblueowl]] ([[User talk:Midnightblueowl|talk]]) 21:14, 31 March 2015 (UTC)\\n*\\'\\'\\'Support\\'\\'\\'. A very clear case of WP:ITNR. -[[User:LtNOWIS|LtNOWIS]] ([[User talk:LtNOWIS|talk]]) 21:53, 31 March 2015 (UTC)\\n::{{ping|LtNOWIS}} {{ping|Midnightblueowl}} Events on the [[WP:ITNR|ITNR list]] do not need support on the merits as they are presumed notable by being on the list; this discussion is to assess article quality and determine a blurb. [[User:331dot|331dot]] ([[User talk:331dot|talk]]) 21:59, 31 March 2015 (UTC)\\n:::No, individual instances of an ITNR might be an issue, but the discussion should center on if \\'\\'this specific case\\'\\' is a problem, not the event in general. Not that I don\\'t think this case is close to be one to challenge on the event (Africa\\'s biggest element at 50M+ voters, tight race, etc.), but ITNR is not a guarantee that article topic automatically qualifies, just that we should avoid quibbling on the event\\'s broad nature. --[[User:Masem|M<font size=\"-3\">ASEM</font>]] ([[User Talk:Masem|t]]) 22:11, 31 March 2015 (UTC)\\n::::Thanks for clarifying that; I didn\\'t mean to suggest it would automatically get posted. [[User:331dot|331dot]] ([[User talk:331dot|talk]]) 22:20, 31 March 2015 (UTC)\\n* \\'\\'\\'Support\\'\\'\\' – Current top story. [[User:Sca|Sca]] ([[User talk:Sca|talk]]) 01:26, 1 April 2015 (UTC)\\n*\\'\\'\\'Support\\'\\'\\'. - Probably the most important African story of the moment.[[User:Nickpheas|Nickpheas]] ([[User talk:Nickpheas|talk]]) 09:41, 1 April 2015 (UTC)\\n*\\'\\'\\'Support\\'\\'\\'. - Looked for it to be there. As others have said, the current African top story. [[User:Marfinan]] 10:44, 1 April 2015 (UTC)\\n* Posting. Picture can be changed as well. --\\'\\'\\'[[User:Tone|Tone]]\\'\\'\\' 14:56, 1 April 2015 (UTC)\\n{{collapse top|1=Off-topic. [[User:The Rambling Man|The Rambling Man]] ([[User talk:The Rambling Man|talk]]) 20:21, 2 April 2015 (UTC)}}\\n*:Pity it was posted for several hours still with incorrect tenses and even now has incomplete information, but hey, the vote count rules.  [[User:The Rambling Man|The Rambling Man]] ([[User talk:The Rambling Man|talk]]) 18:31, 1 April 2015 (UTC)\\n*::You know, TRM, the problem is both that you\\'re correct and \\'\\'ignorable\\'\\'.  The tone of your posts, coupled with a long history of being incivil and unpleasant towards people, means that most people are generally going to ignore you, even when you have something important and valid to say.  It\\'s the reason why [[WP:INCIVIL]] exists as a policy, and why it is such a big deal.  It has nothing to do with being a nanny, nor does it have anything to do with being arbitrary.  Being an effective communicator means getting people to do what is necessary by telling them to do so.  Your communication methods and reputation have made you an ineffective communicator, which is why no one ever listens to you.  You were right, are right, and by the looks of things, will still be right tomorrow about this article being incorrectly posted.  You were right when you brought it up before, and no one listened because of the means in which you expressed yourself, the tone you took, and your reputation of being abusive towards others.  Please let this be an object lesson: getting others to act on your say-so requires a certain technique: people don\\'t just do what you say because you are right; it is in how you express your rightness.  We\\'ve been trying to tell you this for years.  I fully expect you to ignore this advice, but my compulsion as an educator to improve others makes me give it anyways: Learn from these mistakes, change how you treat others, learn to communicate ideas in ways that make others act.  If you don\\'t, you\\'ll continue to be right and be ignored.  It would be much better to be right and be followed.  That\\'s what I want for you.  I only hope you want that too.  --[[User:Jayron32|<span style=\"color:#009\">Jayron</span>]][[User talk:Jayron32|<b style=\"color:#090\">\\'\\'32\\'\\'</b>]] 01:11, 2 April 2015 (UTC)\\n::::There is not prose update at all...but yeah well said. Time overdue to de-sysop him.[[Special:Contributions/120.62.30.7|120.62.30.7]] ([[User talk:120.62.30.7|talk]]) 08:20, 2 April 2015 (UTC)\\n:::::Very brave IP, very brave. [[User:The Rambling Man|The Rambling Man]] ([[User talk:The Rambling Man|talk]]) 08:41, 2 April 2015 (UTC)\\n::::::and you still fail to get the point![[Special:Contributions/120.62.30.7|120.62.30.7]] ([[User talk:120.62.30.7|talk]]) 08:49, 2 April 2015 (UTC)\\n:::::::You didn\\'t make one.  For the avoidance of doubt, what you said was without point. [[User:The Rambling Man|The Rambling Man]] ([[User talk:The Rambling Man|talk]]) 10:11, 2 April 2015 (UTC)\\n::::::::I\\'ve never made any calls for such.  TRM has never abused his tools, and never used them inappropriately.  I\\'m just advising him to communicate effectively so he can be more useful to the project.  --[[User:Jayron32|<span style=\"color:#009\">Jayron</span>]][[User talk:Jayron32|<b style=\"color:#090\">\\'\\'32\\'\\'</b>]] 12:04, 2 April 2015 (UTC)\\n:::::::::It\\'s okay, I think we all recognise who the IP is, couldn\\'t stay away for too long, eh?!  [[User:The Rambling Man|The Rambling Man]] ([[User talk:The Rambling Man|talk]]) 12:20, 2 April 2015 (UTC)\\n{{collapse bottom}}']"
            ]
          },
          "metadata": {
            "tags": []
          },
          "execution_count": 11
        }
      ]
    },
    {
      "metadata": {
        "id": "mTr_xfWJ2qTG",
        "colab_type": "code",
        "colab": {
          "base_uri": "https://localhost:8080/",
          "height": 71
        },
        "outputId": "b280befd-cb0b-4d9a-b4c2-e9cbe1aa5043"
      },
      "cell_type": "code",
      "source": [
        "# !pip install regex\n",
        "import regex\n",
        "\n",
        "itn_candidate_item = re.split(r'\\{\\{ITN candidate[\\s\\S]+?\\}\\}\\n', itn_candidates[2])\n",
        "itn_candidate_item\n",
        "# itn_candidates[4][:itn_candidate_item.endpos]"
      ],
      "execution_count": 91,
      "outputs": [
        {
          "output_type": "execute_result",
          "data": {
            "text/plain": [
              "['{{archive top|1=No consensus to post. [[User:The Rambling Man|The Rambling Man]] ([[User talk:The Rambling Man|talk]]) 18:32, 1 April 2015 (UTC)}}\\n',\n",
              " '*\\'\\'\\'Weak Oppose\\'\\'\\' - even though some world leaders attended this event, I am not sure whether it has had much global impact. It\\'s a protest against terrorism. Most people don\\'t support terrorism already - but what does this achieve? [[User:Starship.paint|\\'\\'\\'starship\\'\\'\\']][[Special:Contributions/Starship.paint|\\'\\'\\'.paint\\'\\'\\']] \\'\\'\\'[[User talk:Starship.paint|<font color=\"#000000\">~ ¡<font color=\"#E62617\">Olé</font>!</font>]]\\'\\'\\' 13:24, 31 March 2015 (UTC)\\n\\n* \\'\\'\\'Oppose\\'\\'\\' First, the blurb should be better (the title of the source is misleading, as it says \"hundreds of thousands\" in the march, making it larger than the title suggests), however, while similar to Je Suis Charlie, this seems to be a much smaller, and local, scale, and a response to the already-posted Bardo museum attack. I would suggest that DYK is a prime spot for this if this fails ITN. --[[User:Masem|M<font size=\"-3\">ASEM</font>]] ([[User Talk:Masem|t]]) 13:26, 31 March 2015 (UTC)\\n\\n*\\'\\'\\'Weak oppose\\'\\'\\' as protests against terrorism are not unusual and this specific one doesn\\'t seem like it will have a great impact on laws or policy. The Je suis Charlie protests were much larger in scale and occurred in many countries. [[User:331dot|331dot]] ([[User talk:331dot|talk]]) 13:56, 31 March 2015 (UTC)\\n\\n*\\'\\'\\'Support\\'\\'\\' large protest (see picture) internationally attended.  Just object to the word \"successful\" as odd wording for the blurb. [[User:Medeis|μηδείς]] ([[User talk:Medeis|talk]]) 16:48, 31 March 2015 (UTC)\\n\\n*\\'\\'\\'Oppose\\'\\'\\': Strangely worded blurb and rather stale (it happened Sunday, not today). And it wasn\\'t even \\'\\'that\\'\\' big of a march, with only a few leaders of countries in Tunisia\\'s neighborhood joining what Reuters described as \"tens of thousands of Tunisians\". -[[User:Kudzu1|Kudzu1]] ([[User talk:Kudzu1|talk]]) 17:05, 31 March 2015 (UTC)\\n\\n*\\'\\'\\'Oppose\\'\\'\\' Purely symbolic, and not even particularly significant at that. [[User:JoshuaKGarner|Joshua Garner]] ([[User talk:JoshuaKGarner|talk]]) 17:09, 31 March 2015 (UTC)\\n\\n*\\'\\'\\'Oppose\\'\\'\\' government-orchestrated march, changes nothing.  [[User:The Rambling Man|The Rambling Man]] ([[User talk:The Rambling Man|talk]]) 18:28, 31 March 2015 (UTC)\\n\\n*\\'\\'\\'Weak oppose\\'\\'\\': does not seem to have attracted particular international attention; we have not included marches of a comparable size with only national significance on In the News before. [[User:Midnightblueowl|Midnightblueowl]] ([[User talk:Midnightblueowl|talk]]) 21:16, 31 March 2015 (UTC)\\n\\n*\\'\\'\\'Oppose\\'\\'\\' Bad article is undeveloped compared to [[Bardo National Museum attack]], little coverage of Tunisian politics. [[User:Aronzak|-- Aronzak]] ([[User talk:Aronzak|talk]]) 09:10, 1 April 2015 (UTC)\\n{{archive bottom}}\\n']"
            ]
          },
          "metadata": {
            "tags": []
          },
          "execution_count": 91
        }
      ]
    }
  ]
}